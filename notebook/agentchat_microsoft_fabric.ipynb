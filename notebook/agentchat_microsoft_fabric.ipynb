{
 "cells": [
  {
   "cell_type": "markdown",
   "id": "0",
   "metadata": {
    "nteract": {
     "transient": {
      "deleting": false
     }
    }
   },
   "source": [
    "## Use AutoGen in Microsoft Fabric\n",
    "\n",
    "[AutoGen](https://github.com/microsoft/autogen) offers conversable LLM agents, which can be used to solve various tasks with human or automatic feedback, including tasks that require using tools via code.\n",
    "Please find documentation about this feature [here](https://microsoft.github.io/autogen/docs/Use-Cases/agent_chat).\n",
    "\n",
    "[Microsoft Fabric](https://learn.microsoft.com/en-us/fabric/get-started/microsoft-fabric-overview) is an all-in-one analytics solution for enterprises that covers everything from data movement to data science, Real-Time Analytics, and business intelligence. It offers a comprehensive suite of services, including data lake, data engineering, and data integration, all in one place. Its pre-built AI models include GPT-x models such as `gpt-4o`, `gpt-4-turbo`, `gpt-4`, `gpt-4-8k`, `gpt-4-32k`, `gpt-35-turbo`, `gpt-35-turbo-16k` and `gpt-35-turbo-instruct`, etc. It's important to note that the Azure Open AI service is not supported on trial SKUs and only paid SKUs (F64 or higher, or P1 or higher) are supported.\n",
    "\n",
    "In this notebook, we demonstrate several examples:\n",
    "- 0. How to access pre-built LLM endpoints with AutoGen in Microsoft Fabric.\n",
    "- 1. How to use `AssistantAgent` and `UserProxyAgent` to write code and execute the code.\n",
    "- 2. How to use `AssistantAgent` and `RetrieveUserProxyAgent` to do Retrieval Augmented Generation (RAG) for QA and Code Generation.\n",
    "- 3. How to use `MultimodalConversableAgent` to chat with images.\n",
    "\n",
    "#### Requirements\n",
    "\n",
    "AutoGen requires `Python>=3.8`.\n",
    "\n",
    "Also, this notebook depends on Microsoft Fabric pre-built LLM endpoints and Fabric runtime 1.2+. Running it elsewhere may encounter errors."
   ]
  },
  {
   "cell_type": "markdown",
   "id": "1",
   "metadata": {
    "nteract": {
     "transient": {
      "deleting": false
     }
    }
   },
   "source": [
    "### Example 0"
   ]
  },
  {
   "cell_type": "markdown",
   "id": "2",
   "metadata": {
    "nteract": {
     "transient": {
      "deleting": false
     }
    }
   },
   "source": [
    "#### Work with openai<1\n",
    "\n",
    "AutoGen can work with openai<1 in Microsoft Fabric. To access pre-built LLM endpoints with AutoGen, you can follow below example.\n",
    "\n",
    "This example can run in Fabric runtime 1.2+."
   ]
  },
  {
   "cell_type": "code",
   "execution_count": null,
   "id": "3",
   "metadata": {
    "jupyter": {
     "outputs_hidden": false,
     "source_hidden": false
    },
    "nteract": {
     "transient": {
      "deleting": false
     }
    }
   },
   "outputs": [],
   "source": [
    "# pyautogen<=0.1.14 supports openai<1\n",
    "%pip install \"pyautogen==0.1.14\" \"openai==0.28.1\" -q"
   ]
  },
  {
   "cell_type": "code",
   "execution_count": null,
   "id": "4",
   "metadata": {
    "jupyter": {
     "outputs_hidden": false,
     "source_hidden": false
    },
    "nteract": {
     "transient": {
      "deleting": false
     }
    }
   },
   "outputs": [],
   "source": [
    "config_list = [\n",
    "    {\n",
    "        \"model\": \"gpt-4o\",\n",
    "    },\n",
    "]\n",
    "\n",
    "# Set temperature, timeout and other LLM configurations\n",
    "llm_config = {\n",
    "    \"config_list\": config_list,\n",
    "    \"temperature\": 0,\n",
    "    \"timeout\": 600,\n",
    "}"
   ]
  },
  {
   "cell_type": "code",
   "execution_count": null,
   "id": "5",
   "metadata": {
    "jupyter": {
     "outputs_hidden": false,
     "source_hidden": false
    },
    "nteract": {
     "transient": {
      "deleting": false
     }
    }
   },
   "outputs": [
    {
     "data": {
      "application/vnd.livy.statement-meta+json": {
       "execution_finish_time": "2024-09-04T11:10:49.8449248Z",
       "execution_start_time": "2024-09-04T11:09:05.6935167Z",
       "livy_statement_state": "available",
       "normalized_state": "finished",
       "parent_msg_id": "5dacfdd5-af6c-4acd-9ece-60f9e0758174",
       "queued_time": "2024-09-04T11:08:29.1314923Z",
       "session_id": "d0eed0e3-107e-4be2-8da7-7d6026d85e62",
       "session_start_time": null,
       "spark_pool": null,
       "state": "finished",
       "statement_id": 11,
       "statement_ids": [
        11
       ]
      },
      "text/plain": [
       "StatementMeta(, d0eed0e3-107e-4be2-8da7-7d6026d85e62, 11, Finished, Available, Finished)"
      ]
     },
     "metadata": {},
     "output_type": "display_data"
    },
    {
     "name": "stderr",
     "output_type": "stream",
     "text": [
      "2024-09-04 11:10:05.592463: I tensorflow/core/util/port.cc:113] oneDNN custom operations are on. You may see slightly different numerical results due to floating-point round-off errors from different computation orders. To turn them off, set the environment variable `TF_ENABLE_ONEDNN_OPTS=0`.\n",
      "2024-09-04 11:10:11.425719: I tensorflow/core/platform/cpu_feature_guard.cc:182] This TensorFlow binary is optimized to use available CPU instructions in performance-critical operations.\n",
      "To enable the following instructions: SSE4.1 SSE4.2 AVX AVX2 AVX512F AVX512_VNNI FMA, in other operations, rebuild TensorFlow with the appropriate compiler flags.\n"
     ]
    },
    {
     "name": "stdout",
     "output_type": "stream",
     "text": [
      "\u001b[33muser\u001b[0m (to gpt-4o):\n",
      "\n",
      "Tell me a quick joke.\n",
      "\n",
      "--------------------------------------------------------------------------------\n",
      "\u001b[33mgpt-4o\u001b[0m (to user):\n",
      "\n",
      "Why don't scientists trust atoms?\n",
      "\n",
      "Because they make up everything!\n",
      "\n",
      "--------------------------------------------------------------------------------\n"
     ]
    }
   ],
   "source": [
    "import autogen\n",
    "\n",
    "agent = autogen.agentchat.ConversableAgent(\n",
    "    name=config_list[0][\"model\"], llm_config=llm_config, max_consecutive_auto_reply=1, human_input_mode=\"NEVER\"\n",
    ")\n",
    "userproxy = autogen.agentchat.ConversableAgent(\n",
    "    name=\"user\",\n",
    "    max_consecutive_auto_reply=0,\n",
    "    llm_config=False,\n",
    "    default_auto_reply=\"TERMINATE\",\n",
    "    human_input_mode=\"NEVER\",\n",
    ")\n",
    "userproxy.initiate_chat(recipient=agent, message=\"Tell me a quick joke.\")"
   ]
  },
  {
   "cell_type": "markdown",
   "id": "6",
   "metadata": {
    "nteract": {
     "transient": {
      "deleting": false
     }
    }
   },
   "source": [
    "#### Work with openai>=1\n",
    "\n",
    "AutoGen can work with openai>=1 in Microsoft Fabric. To access pre-built LLM endpoints with AutoGen, you can follow below example.\n",
    "\n",
    "This example and below examples can only run in Fabric runtime 1.3+."
   ]
  },
  {
   "cell_type": "code",
   "execution_count": null,
   "id": "7",
   "metadata": {},
   "outputs": [],
   "source": [
    "# pyautogen>0.1.14 supports openai>=1\n",
    "%pip install \"pyautogen>0.2\" \"openai>1\" -q"
   ]
  },
  {
   "cell_type": "code",
   "execution_count": null,
   "id": "8",
   "metadata": {
    "jupyter": {
     "outputs_hidden": false,
     "source_hidden": false
    },
    "nteract": {
     "transient": {
      "deleting": false
     }
    }
   },
   "outputs": [
    {
     "data": {
      "application/vnd.livy.statement-meta+json": {
       "execution_finish_time": "2024-09-04T11:21:01.4134396Z",
       "execution_start_time": "2024-09-04T11:21:01.0206532Z",
       "livy_statement_state": "available",
       "normalized_state": "finished",
       "parent_msg_id": "b01282de-e79f-4a3e-9205-73fa8ab87599",
       "queued_time": "2024-09-04T11:21:00.5084Z",
       "session_id": "d0eed0e3-107e-4be2-8da7-7d6026d85e62",
       "session_start_time": null,
       "spark_pool": null,
       "state": "finished",
       "statement_id": 38,
       "statement_ids": [
        38
       ]
      },
      "text/plain": [
       "StatementMeta(, d0eed0e3-107e-4be2-8da7-7d6026d85e62, 38, Finished, Available, Finished)"
      ]
     },
     "metadata": {},
     "output_type": "display_data"
    }
   ],
   "source": [
    "import types\n",
    "\n",
    "import httpx\n",
    "from synapse.ml.fabric.credentials import get_openai_httpx_sync_client\n",
    "\n",
    "import autogen\n",
    "\n",
    "http_client = get_openai_httpx_sync_client()  # http_client is needed for openai>1\n",
    "http_client.__deepcopy__ = types.MethodType(\n",
    "    lambda self, memo: self, http_client\n",
    ")  # https://microsoft.github.io/autogen/docs/topics/llm_configuration#adding-http-client-in-llm_config-for-proxy\n",
    "\n",
    "config_list = [\n",
    "    {\n",
    "        \"model\": \"gpt-4o\",\n",
    "        \"http_client\": http_client,\n",
    "        \"api_version\": \"2024-02-01\",\n",
    "        \"api_type\": \"azure\",\n",
    "    },\n",
    "]\n",
    "\n",
    "# Set temperature, timeout and other LLM configurations\n",
    "llm_config = {\n",
    "    \"config_list\": config_list,\n",
    "    \"temperature\": 0,\n",
    "}"
   ]
  },
  {
   "cell_type": "code",
   "execution_count": null,
   "id": "9",
   "metadata": {
    "jupyter": {
     "outputs_hidden": false,
     "source_hidden": false
    },
    "nteract": {
     "transient": {
      "deleting": false
     }
    }
   },
   "outputs": [
    {
     "data": {
      "application/vnd.livy.statement-meta+json": {
       "execution_finish_time": "2024-09-04T11:21:05.2491512Z",
       "execution_start_time": "2024-09-04T11:21:03.4015759Z",
       "livy_statement_state": "available",
       "normalized_state": "finished",
       "parent_msg_id": "4f4e94fa-4626-445d-86d0-b8fa3e3ae0b5",
       "queued_time": "2024-09-04T11:21:02.9666054Z",
       "session_id": "d0eed0e3-107e-4be2-8da7-7d6026d85e62",
       "session_start_time": null,
       "spark_pool": null,
       "state": "finished",
       "statement_id": 39,
       "statement_ids": [
        39
       ]
      },
      "text/plain": [
       "StatementMeta(, d0eed0e3-107e-4be2-8da7-7d6026d85e62, 39, Finished, Available, Finished)"
      ]
     },
     "metadata": {},
     "output_type": "display_data"
    },
    {
     "name": "stdout",
     "output_type": "stream",
     "text": [
      "\u001b[33muser\u001b[0m (to gpt-4o):\n",
      "\n",
      "Tell me a joke about openai.\n",
      "\n",
      "--------------------------------------------------------------------------------\n",
      "\u001b[33mgpt-4o\u001b[0m (to user):\n",
      "\n",
      "Why did the AI go to school?\n",
      "\n",
      "Because it wanted to improve its \"neural\" network!\n",
      "\n",
      "--------------------------------------------------------------------------------\n"
     ]
    },
    {
     "data": {
      "text/plain": [
       "ChatResult(chat_id=None, chat_history=[{'content': 'Tell me a joke about openai.', 'role': 'assistant', 'name': 'user'}, {'content': 'Why did the AI go to school?\\n\\nBecause it wanted to improve its \"neural\" network!', 'role': 'user', 'name': 'gpt-4o'}], summary='Why did the AI go to school?\\n\\nBecause it wanted to improve its \"neural\" network!', cost={'usage_including_cached_inference': {'total_cost': 0.000435, 'gpt-4o-2024-05-13': {'cost': 0.000435, 'prompt_tokens': 27, 'completion_tokens': 20, 'total_tokens': 47}}, 'usage_excluding_cached_inference': {'total_cost': 0.000435, 'gpt-4o-2024-05-13': {'cost': 0.000435, 'prompt_tokens': 27, 'completion_tokens': 20, 'total_tokens': 47}}}, human_input=[])"
      ]
     },
     "execution_count": null,
     "metadata": {},
     "output_type": "execute_result"
    }
   ],
   "source": [
    "import autogen\n",
    "\n",
    "agent = autogen.agentchat.ConversableAgent(\n",
    "    name=config_list[0][\"model\"], llm_config=llm_config, max_consecutive_auto_reply=1, human_input_mode=\"NEVER\"\n",
    ")\n",
    "userproxy = autogen.agentchat.ConversableAgent(\n",
    "    name=\"user\",\n",
    "    max_consecutive_auto_reply=0,\n",
    "    llm_config=False,\n",
    "    default_auto_reply=\"TERMINATE\",\n",
    "    human_input_mode=\"NEVER\",\n",
    ")\n",
    "userproxy.initiate_chat(recipient=agent, message=\"Tell me a joke about openai.\")"
   ]
  },
  {
   "cell_type": "markdown",
   "id": "10",
   "metadata": {
    "nteract": {
     "transient": {
      "deleting": false
     }
    }
   },
   "source": [
    "### Example 1\n",
    "How to use `AssistantAgent` and `UserProxyAgent` to write code and execute the code."
   ]
  },
  {
   "cell_type": "code",
   "execution_count": null,
   "id": "11",
   "metadata": {
    "jupyter": {
     "outputs_hidden": false,
     "source_hidden": false
    },
    "nteract": {
     "transient": {
      "deleting": false
     }
    }
   },
   "outputs": [],
   "source": [
    "%pip install \"pyautogen[retrievechat,lmm]>=0.2.28\" -q"
   ]
  },
  {
   "cell_type": "code",
   "execution_count": null,
   "id": "12",
   "metadata": {
    "jupyter": {
     "outputs_hidden": false,
     "source_hidden": false
    },
    "nteract": {
     "transient": {
      "deleting": false
     }
    }
   },
   "outputs": [],
   "source": [
    "import types\n",
    "\n",
    "from synapse.ml.fabric.credentials import get_openai_httpx_sync_client\n",
    "\n",
    "import autogen\n",
    "\n",
    "http_client = get_openai_httpx_sync_client()  # http_client is needed for openai>1\n",
    "http_client.__deepcopy__ = types.MethodType(\n",
    "    lambda self, memo: self, http_client\n",
    ")  # https://microsoft.github.io/autogen/docs/topics/llm_configuration#adding-http-client-in-llm_config-for-proxy\n",
    "\n",
    "config_list = [\n",
    "    {\n",
    "        \"model\": \"gpt-4o\",\n",
    "        \"http_client\": http_client,\n",
    "        \"api_version\": \"2024-02-01\",\n",
    "        \"api_type\": \"azure\",\n",
    "    },\n",
    "]\n",
    "\n",
    "# Set temperature, timeout and other LLM configurations\n",
    "llm_config = {\n",
    "    \"config_list\": config_list,\n",
    "    \"temperature\": 0,\n",
    "}"
   ]
  },
  {
   "cell_type": "code",
   "execution_count": null,
   "id": "13",
   "metadata": {
    "jupyter": {
     "outputs_hidden": false,
     "source_hidden": false
    },
    "nteract": {
     "transient": {
      "deleting": false
     }
    }
   },
   "source": [
    "import autogen\n",
    "\n",
    "# create an AssistantAgent instance named \"assistant\"\n",
    "assistant = autogen.AssistantAgent(\n",
    "    name=\"assistant\",\n",
    "    llm_config=llm_config,\n",
    ")\n",
    "\n",
    "# create a UserProxyAgent instance named \"user_proxy\"\n",
    "user_proxy = autogen.UserProxyAgent(\n",
    "    name=\"user_proxy\",\n",
    "    human_input_mode=\"NEVER\",  # input() doesn't work, so needs to be \"NEVER\" here\n",
    "    max_consecutive_auto_reply=10,\n",
    "    is_termination_msg=lambda x: x.get(\"content\", \"\").rstrip().endswith(\"TERMINATE\"),\n",
    "    code_execution_config={\n",
    "        \"work_dir\": \"coding\",\n",
    "        \"use_docker\": False,  # Please set use_docker=True if docker is available to run the generated code. Using docker is safer than running the generated code directly.\n",
    "    },\n",
    "    llm_config=llm_config,\n",
    "    system_message=\"\"\"Reply TERMINATE if the task has been solved at full satisfaction.\n",
    "Otherwise, reply CONTINUE, or the reason why the task is not solved yet.\"\"\",\n",
    ")\n",
    "\n",
    "# the assistant receives a message from the user, which contains the task description\n",
    "chat_result = user_proxy.initiate_chat(\n",
    "    assistant,\n",
    "    message=\"\"\"\n",
    "Who should read this paper: https://arxiv.org/abs/2308.08155\n",
    "\"\"\",\n",
    ")"
   ],
   "outputs": []
  },
  {
   "cell_type": "code",
   "execution_count": null,
   "id": "14",
   "metadata": {
    "jupyter": {
     "outputs_hidden": false,
     "source_hidden": false
    },
    "nteract": {
     "transient": {
      "deleting": false
     }
    }
   },
   "source": [
    "print(f\"Cost for the chat:\\n{chat_result.cost}\")"
   ],
   "outputs": []
  },
  {
   "cell_type": "markdown",
   "id": "15",
   "metadata": {
    "nteract": {
     "transient": {
      "deleting": false
     }
    }
   },
   "source": [
    "### Example 2\n",
    "How to use `AssistantAgent` and `RetrieveUserProxyAgent` to do Retrieval Augmented Generation (RAG) for QA and Code Generation.\n",
    "\n",
    "Check out this [blog](https://microsoft.github.io/autogen/blog/2023/10/18/RetrieveChat) for more details."
   ]
  },
  {
   "cell_type": "code",
   "execution_count": null,
   "id": "16",
   "metadata": {
    "jupyter": {
     "outputs_hidden": false,
     "source_hidden": false
    },
    "nteract": {
     "transient": {
      "deleting": false
     }
    }
   },
   "source": [
    "import tempfile\n",
    "\n",
    "from autogen.coding import LocalCommandLineCodeExecutor\n",
    "\n",
    "# Create a temporary directory to store the code files.\n",
    "temp_dir = tempfile.TemporaryDirectory()\n",
    "\n",
    "# Create a local command line code executor.\n",
    "code_executor = LocalCommandLineCodeExecutor(\n",
    "    timeout=40,  # Timeout for each code execution in seconds.\n",
    "    work_dir=temp_dir.name,  # Use the temporary directory to store the code files.\n",
    ")"
   ],
   "outputs": []
  },
  {
   "cell_type": "code",
   "execution_count": null,
   "id": "17",
   "metadata": {
    "jupyter": {
     "outputs_hidden": false,
     "source_hidden": false
    },
    "nteract": {
     "transient": {
      "deleting": false
     }
    }
   },
   "source": [
    "from autogen import AssistantAgent\n",
    "from autogen.agentchat.contrib.retrieve_user_proxy_agent import RetrieveUserProxyAgent\n",
    "\n",
    "# 1. create an AssistantAgent instance named \"assistant\"\n",
    "assistant = AssistantAgent(\n",
    "    name=\"assistant\",\n",
    "    system_message=\"You are a helpful assistant.\",\n",
    "    llm_config=llm_config,\n",
    ")\n",
    "\n",
    "# 2. create the RetrieveUserProxyAgent instance named \"ragproxyagent\"\n",
    "ragproxyagent = RetrieveUserProxyAgent(\n",
    "    name=\"ragproxyagent\",\n",
    "    human_input_mode=\"NEVER\",\n",
    "    max_consecutive_auto_reply=5,\n",
    "    retrieve_config={\n",
    "        \"docs_path\": [\n",
    "            \"https://learn.microsoft.com/en-us/fabric/get-started/microsoft-fabric-overview\",\n",
    "            \"https://learn.microsoft.com/en-us/fabric/data-science/tuning-automated-machine-learning-visualizations\",\n",
    "        ],\n",
    "        \"chunk_token_size\": 2000,\n",
    "        \"model\": config_list[0][\"model\"],\n",
    "        \"vector_db\": \"chroma\",  # to use the deprecated `client` parameter, set to None and uncomment the line above\n",
    "        \"overwrite\": True,  # set to True if you want to overwrite an existing collection\n",
    "    },\n",
    "    code_execution_config={\"executor\": code_executor},  # Use the local command line code executor.\n",
    ")"
   ],
   "outputs": []
  },
  {
   "cell_type": "markdown",
   "id": "18",
   "metadata": {
    "nteract": {
     "transient": {
      "deleting": false
     }
    }
   },
   "source": [
    "#### 2.1 let's ask a question \"List all the Components of Microsoft Fabric\".\n",
    "\n",
    "The answer from **ChatGPT with gpt-4o** at June 7th, 2024 is as below:\n",
    "```\n",
    "Microsoft Fabric is a comprehensive data platform that integrates various services and tools for data management, analytics, and collaboration. As of the latest information available, Microsoft Fabric includes the following components:\n",
    "\n",
    "Data Integration:\n",
    "\n",
    "Azure Data Factory: For creating, scheduling, and orchestrating data workflows.\n",
    "Power Query: A data transformation and data preparation tool.\n",
    "Data Engineering:\n",
    "\n",
    "Azure Synapse Analytics: For big data and data warehousing solutions, including Synapse SQL, Spark, and Data Explorer.\n",
    "Data Science:\n",
    "\n",
    "Azure Machine Learning: For building, training, and deploying machine learning models.\n",
    "Azure Databricks: For collaborative big data and AI solutions.\n",
    "Data Warehousing:\n",
    "\n",
    "...\n",
    "```\n",
    "\n",
    "While the answer from AutoGen RAG agent with gpt-4o is as below:\n",
    "```\n",
    "The components of Microsoft Fabric are:\n",
    "\n",
    "1. Power BI\n",
    "2. Data Factory\n",
    "3. Data Activator\n",
    "4. Industry Solutions\n",
    "5. Real-Time Intelligence\n",
    "6. Synapse Data Engineering\n",
    "7. Synapse Data Science\n",
    "8. Synapse Data Warehouse\n",
    "\n",
    "Sources: [Microsoft Fabric Overview](https://learn.microsoft.com/en-us/fabric/get-started/microsoft-fabric-overview)\n",
    "```\n",
    "\n",
    "AutoGen RAG agent's answer is exactly the right answer per the official documents while ChatGPT made a few mistakes, it even listed Azure Databricks."
   ]
  },
  {
   "cell_type": "code",
   "execution_count": null,
   "id": "19",
   "metadata": {
    "jupyter": {
     "outputs_hidden": false,
     "source_hidden": false
    },
    "nteract": {
     "transient": {
      "deleting": false
     }
    }
   },
   "source": [
    "assistant.reset()\n",
    "problem = \"List all the Components of Microsoft Fabric\"\n",
    "chat_result = ragproxyagent.initiate_chat(assistant, message=ragproxyagent.message_generator, problem=problem)"
   ],
   "outputs": []
  },
  {
   "cell_type": "code",
   "execution_count": null,
   "id": "20",
   "metadata": {
    "jupyter": {
     "outputs_hidden": false,
     "source_hidden": false
    },
    "nteract": {
     "transient": {
      "deleting": false
     }
    }
   },
   "source": [
    "print(f\"Cost for the chat:\\n{chat_result.cost}\")"
   ],
   "outputs": []
  },
  {
   "cell_type": "markdown",
   "id": "21",
   "metadata": {
    "nteract": {
     "transient": {
      "deleting": false
     }
    }
   },
   "source": [
    "#### 2.2 let's ask it to generate AutoML code for us\n",
    "\n",
    "The question is \"Train a regression model, set time budget to 12s, plot the time line plot after training.\".\n",
    "\n",
    "ChatGPT's answer is as below:\n",
    "\n",
    "[It showed a figure]\n",
    "\n",
    "The timeline plot above shows the elapsed time during the training of a linear regression model. The red dashed line indicates the 12-second time budget. The model was trained iteratively, and the plot demonstrates that the training process was monitored to ensure it stayed within the specified time budget.\n",
    "```\n",
    "import time\n",
    "import numpy as np\n",
    "import matplotlib.pyplot as plt\n",
    "from sklearn.datasets import make_regression\n",
    "from sklearn.model_selection import train_test_split\n",
    "from sklearn.linear_model import LinearRegression\n",
    "\n",
    "# Create a synthetic regression dataset\n",
    "X, y = make_regression(n_samples=1000, n_features=20, noise=0.1)\n",
    "X_train, X_test, y_train, y_test = train_test_split(X, y, test_size=0.2, random_state=42)\n",
    "\n",
    "# Initialize the model\n",
    "model = LinearRegression()\n",
    "\n",
    "# Record the start time\n",
    "start_time = time.time()\n",
    "\n",
    "# Train the model and record intermediate times\n",
    "times = []\n",
    "time_budget = 12  # in seconds\n",
    "\n",
    "for _ in range(100):\n",
    "    model.fit(X_train, y_train)\n",
    "    current_time = time.time()\n",
    "    elapsed_time = current_time - start_time\n",
    "    times.append(elapsed_time)\n",
    "    if elapsed_time > time_budget:\n",
    "        break\n",
    "\n",
    "# Plot the timeline\n",
    "plt.figure(figsize=(10, 5))\n",
    "plt.plot(times, label='Training time')\n",
    "plt.axhline(y=time_budget, color='r', linestyle='--', label='Time Budget (12s)')\n",
    "plt.xlabel('Iteration')\n",
    "plt.ylabel('Elapsed Time (s)')\n",
    "plt.title('Training Time Line Plot')\n",
    "plt.legend()\n",
    "plt.grid(True)\n",
    "plt.show()\n",
    "```\n",
    "\n",
    "It's not what I need, as ChatGPT has no context of the [AutoML](https://learn.microsoft.com/en-us/fabric/data-science/tuning-automated-machine-learning-visualizations) solution in Fabric Data Science.\n",
    "\n",
    "AutoGen RAG agent's answer is much better and ready for deployment. It retrieved the document related to the question and generated code based on the document. It automatically ran the code,  fixed the errors in the code based on the output, and finally it got the correct code."
   ]
  },
  {
   "cell_type": "code",
   "execution_count": null,
   "id": "22",
   "metadata": {
    "jupyter": {
     "outputs_hidden": false,
     "source_hidden": false
    },
    "nteract": {
     "transient": {
      "deleting": false
     }
    }
   },
   "source": [
    "assistant.reset()\n",
    "problem = \"Train a regression model, set time budget to 12s, plot the time line plot after training.\"\n",
    "\n",
    "chat_result = ragproxyagent.initiate_chat(assistant, message=ragproxyagent.message_generator, problem=problem)"
   ],
   "outputs": []
  },
  {
   "cell_type": "code",
   "execution_count": null,
   "id": "23",
   "metadata": {
    "jupyter": {
     "outputs_hidden": false,
     "source_hidden": false
    },
    "nteract": {
     "transient": {
      "deleting": false
     }
    }
   },
   "source": [
    "print(f\"Cost for the chat:\\n{chat_result.cost}\")"
   ],
   "outputs": []
  },
  {
   "cell_type": "markdown",
   "id": "24",
   "metadata": {
    "nteract": {
     "transient": {
      "deleting": false
     }
    }
   },
   "source": [
    "Below is the code generated by AutoGen RAG agent. It's not a copy of the code in the related document as we asked for different task and training time, but AutoGen RAG agent adapted it very well."
   ]
  },
  {
   "cell_type": "code",
   "execution_count": null,
   "id": "25",
   "metadata": {
    "jupyter": {
     "outputs_hidden": false,
     "source_hidden": false
    },
    "nteract": {
     "transient": {
      "deleting": false
     }
    }
   },
   "source": [
    "import flaml.visualization as fviz\n",
    "from flaml import AutoML\n",
    "from sklearn.datasets import fetch_california_housing\n",
    "from sklearn.model_selection import train_test_split\n",
    "\n",
    "# Load the California housing data and split it into train and test sets\n",
    "housing = fetch_california_housing()\n",
    "x, y = housing.data, housing.target\n",
    "x_train, x_test, y_train, y_test = train_test_split(x, y, test_size=0.2, random_state=7654321)\n",
    "\n",
    "# Create an AutoML instance and set the parameters\n",
    "automl = AutoML()\n",
    "automl_settings = {\n",
    "    \"time_budget\": 12,  # Time limit in seconds\n",
    "    \"task\": \"regression\",  # Type of machine learning task\n",
    "    \"log_file_name\": \"aml_california.log\",  # Name of the log file\n",
    "    \"metric\": \"rmse\",  # Evaluation metric\n",
    "    \"log_type\": \"all\",  # Level of logging\n",
    "}\n",
    "\n",
    "# Fit the AutoML instance on the training data\n",
    "automl.fit(X_train=x_train, y_train=y_train, **automl_settings)\n",
    "\n",
    "# Plot the timeline plot\n",
    "fig = fviz.plot_timeline(automl)\n",
    "fig.show()"
   ],
   "outputs": []
  },
  {
   "cell_type": "markdown",
   "id": "26",
   "metadata": {
    "nteract": {
     "transient": {
      "deleting": false
     }
    }
   },
   "source": [
    "### Example 3\n",
    "How to use `MultimodalConversableAgent` to chat with images.\n",
    "\n",
    "Check out this [blog](https://microsoft.github.io/autogen/blog/2023/11/06/LMM-Agent) for more details."
   ]
  },
  {
   "cell_type": "markdown",
   "id": "27",
   "metadata": {
    "nteract": {
     "transient": {
      "deleting": false
     }
    }
   },
   "source": [
    "We'll ask a question about below image:![image-alt-text](https://th.bing.com/th/id/R.422068ce8af4e15b0634fe2540adea7a?rik=y4OcXBE%2fqutDOw&pid=ImgRaw&r=0)"
   ]
  },
  {
   "cell_type": "code",
   "execution_count": null,
   "id": "28",
   "metadata": {
    "jupyter": {
     "outputs_hidden": false,
     "source_hidden": false
    },
    "nteract": {
     "transient": {
      "deleting": false
     }
    }
   },
   "source": [
    "from autogen.agentchat.contrib.multimodal_conversable_agent import MultimodalConversableAgent\n",
    "\n",
    "image_agent = MultimodalConversableAgent(\n",
    "    name=\"image-explainer\",\n",
    "    max_consecutive_auto_reply=10,\n",
    "    llm_config={\"config_list\": config_list, \"temperature\": 0.5, \"max_tokens\": 300},\n",
    ")\n",
    "\n",
    "user_proxy = autogen.UserProxyAgent(\n",
    "    name=\"User_proxy\",\n",
    "    system_message=\"A human admin.\",\n",
    "    human_input_mode=\"NEVER\",  # Try between ALWAYS or NEVER\n",
    "    max_consecutive_auto_reply=0,\n",
    "    code_execution_config={\n",
    "        \"use_docker\": False\n",
    "    },  # Please set use_docker=True if docker is available to run the generated code. Using docker is safer than running the generated code directly.\n",
    ")\n",
    "\n",
    "# Ask the question with an image\n",
    "chat_result = user_proxy.initiate_chat(\n",
    "    image_agent,\n",
    "    message=\"\"\"What's the breed of this dog?\n",
    "<img https://th.bing.com/th/id/R.422068ce8af4e15b0634fe2540adea7a?rik=y4OcXBE%2fqutDOw&pid=ImgRaw&r=0>.\"\"\",\n",
    ")"
   ],
   "outputs": []
  },
  {
   "cell_type": "code",
   "execution_count": null,
   "id": "29",
   "metadata": {
    "jupyter": {
     "outputs_hidden": false,
     "source_hidden": false
    },
    "nteract": {
     "transient": {
      "deleting": false
     }
    }
   },
   "source": [
    "print(f\"Cost for the chat:\\n{chat_result.cost}\")"
   ],
   "outputs": []
  }
 ],
 "metadata": {
  "kernel_info": {
   "name": "synapse_pyspark"
  },
  "kernelspec": {
   "display_name": "Synapse PySpark",
   "language": "Python",
   "name": "synapse_pyspark"
  },
  "language_info": {
   "name": "python"
  },
  "nteract": {
   "version": "nteract-front-end@1.0.0"
  },
  "spark_compute": {
   "compute_id": "/trident/default"
  }
 },
 "nbformat": 4,
 "nbformat_minor": 5
}
