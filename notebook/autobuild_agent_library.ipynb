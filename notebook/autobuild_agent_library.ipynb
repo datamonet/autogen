{
 "cells": [
  {
   "cell_type": "markdown",
   "id": "6264276d39875995",
   "metadata": {
    "collapsed": false
   },
   "source": [
    "# Automatically Build Multi-agent System from Agent Library\n",
    "\n",
    "By: [Linxin Song](https://linxins97.github.io/), [Jieyu Zhang](https://jieyuz2.github.io/)\n",
    "\n",
    "In this notebook, we introduce a new feature for AutoBuild, `build_from_library`, which help users build an automatic task-solving process powered by a multi-agent system from a pre-defined agent library. \n",
    "Specifically, in `build_from_library`, we prompt an LLM to explore useful agents from a pre-defined agent library, generating configurations for those agents for a group chat to solve the user's task."
   ]
  },
  {
   "cell_type": "markdown",
   "id": "ec78dda8e3826d8a",
   "metadata": {
    "collapsed": false
   },
   "source": [
    "## Requirement\n",
    "\n",
    "AutoBuild require `pyautogen[autobuild]`, which can be installed by the following command:"
   ]
  },
  {
   "cell_type": "code",
   "execution_count": 1,
   "id": "e8e9ae50658be975",
   "metadata": {
    "collapsed": false
   },
   "source": [
    "%pip install pyautogen[autobuild]"
   ],
   "outputs": []
  },
  {
   "cell_type": "markdown",
   "id": "176c200804af63f3",
   "metadata": {
    "collapsed": false
   },
   "source": [
    "## Preparation and useful tools\n",
    "We need to specify a `config_path`, `default_llm_config` that include backbone LLM configurations."
   ]
  },
  {
   "cell_type": "code",
   "execution_count": 2,
   "id": "2505f029423b21ab",
   "metadata": {
    "ExecuteTime": {
     "end_time": "2023-12-26T16:58:02.762702600Z",
     "start_time": "2023-12-26T16:58:02.472073Z"
    },
    "collapsed": false
   },
   "source": [
    "import json\n",
    "\n",
    "import autogen\n",
    "from autogen.agentchat.contrib.agent_builder import AgentBuilder\n",
    "\n",
    "config_file_or_env = \"OAI_CONFIG_LIST\"  # modify path\n",
    "llm_config = {\"temperature\": 0}\n",
    "config_list = autogen.config_list_from_json(config_file_or_env, filter_dict={\"model\": [\"gpt-4-1106-preview\", \"gpt-4\"]})\n",
    "\n",
    "def start_task(execution_task: str, agent_list: list):\n",
    "    group_chat = autogen.GroupChat(agents=agent_list, messages=[], max_round=12)\n",
    "    manager = autogen.GroupChatManager(groupchat=group_chat, llm_config={\"config_list\": config_list, **llm_config})\n",
    "    agent_list[0].initiate_chat(manager, message=execution_task)"
   ],
   "outputs": []
  },
  {
   "cell_type": "markdown",
   "id": "5fb3db8885dd6ee6",
   "metadata": {
    "collapsed": false
   },
   "source": [
    "## Example for generating an agent library\n",
    "Here, we show an example of generating an agent library from a pre-defined list of agents' names by prompting a `gpt-4`. You can also prepare a handcrafted library yourself.\n",
    "\n",
    "A Library contains each agent's name, description and system_message. The description is a brief introduction about agent's characteristics. As we will feed all agents' names and description to gpt-4 and let it choose the best agents for us, each agent's description should be simple but informative. \n",
    "\n",
    "First, we define a prompt template for description and system_message generation and a list of agents' name:"
   ]
  },
  {
   "cell_type": "code",
   "execution_count": 3,
   "id": "68315f6ec912c58a",
   "metadata": {
    "ExecuteTime": {
     "end_time": "2023-12-23T07:39:03.317527600Z",
     "start_time": "2023-12-23T07:39:03.276859600Z"
    },
    "collapsed": false
   },
   "source": [
    "AGENT_SYS_MSG_PROMPT = \"\"\"Acccording to the following postion name, write a high quality instruction for the position following a given example. You should only return the instruction.\n",
    "\n",
    "# Position Name\n",
    "{position}\n",
    "\n",
    "# Example instruction for Data Analyst\n",
    "\n",
    "As Data Analyst, you are tasked with leveraging your extensive knowledge in data analysis to recognize and extract meaningful features from vast datasets. Your expertise in machine learning, specifically with the Random Forest Classifier, allows you to construct robust predictive models adept at handling both classification and regression tasks. You excel in model evaluation and interpretation, ensuring that the performance of your algorithms is not just assessed with precision, but also understood in the context of the data and the problem at hand. With a command over Python and proficiency in using the pandas library, you manipulate and preprocess data with ease.\n",
    "\"\"\"\n",
    "\n",
    "AGENT_DESC_PROMPT = \"\"\"According to position name and the instruction, summarize the position into a high quality one sentence description.\n",
    "\n",
    "# Position Name\n",
    "{position}\n",
    "\n",
    "# Instruction\n",
    "{instruction}\n",
    "\"\"\"\n",
    "\n",
    "position_list = [\n",
    "    \"Environmental_Scientist\",\n",
    "    \"Astronomer\",\n",
    "    \"Software_Developer\",\n",
    "    \"Data_Analyst\",\n",
    "    \"Journalist\",\n",
    "    \"Teacher\",\n",
    "    \"Lawyer\",\n",
    "    \"Programmer\",\n",
    "    \"Accountant\",\n",
    "    \"Mathematician\",\n",
    "    \"Physicist\",\n",
    "    \"Biologist\",\n",
    "    \"Chemist\",\n",
    "    \"Statistician\",\n",
    "    \"IT_Specialist\",\n",
    "    \"Cybersecurity_Expert\",\n",
    "    \"Artificial_Intelligence_Engineer\",\n",
    "    \"Financial_Analyst\",\n",
    "]"
   ],
   "outputs": []
  },
  {
   "cell_type": "markdown",
   "id": "72b8e7d9d334a5c2",
   "metadata": {
    "collapsed": false
   },
   "source": [
    "Then we can prompt a `gpt-4` model to generate each agent's system message as well as the description:"
   ]
  },
  {
   "cell_type": "code",
   "execution_count": 4,
   "id": "8fbfef9268fc5191",
   "metadata": {
    "ExecuteTime": {
     "end_time": "2023-12-23T07:40:01.703372Z",
     "start_time": "2023-12-23T07:39:04.472589200Z"
    },
    "collapsed": false
   },
   "source": [
    "build_manager = autogen.OpenAIWrapper(config_list=config_list)\n",
    "sys_msg_list = []\n",
    "\n",
    "for pos in position_list:\n",
    "    resp_agent_sys_msg = (\n",
    "        build_manager.create(\n",
    "            messages=[\n",
    "                {\n",
    "                    \"role\": \"user\",\n",
    "                    \"content\": AGENT_SYS_MSG_PROMPT.format(\n",
    "                        position=pos,\n",
    "                    ),\n",
    "                }\n",
    "            ]\n",
    "        )\n",
    "        .choices[0]\n",
    "        .message.content\n",
    "    )\n",
    "    resp_desc_msg = (\n",
    "        build_manager.create(\n",
    "            messages=[\n",
    "                {\n",
    "                    \"role\": \"user\",\n",
    "                    \"content\": AGENT_DESC_PROMPT.format(\n",
    "                        position=pos,\n",
    "                        instruction=resp_agent_sys_msg,\n",
    "                    ),\n",
    "                }\n",
    "            ]\n",
    "        )\n",
    "        .choices[0]\n",
    "        .message.content\n",
    "    )\n",
    "    sys_msg_list.append({\"name\": pos, \"system_message\": resp_agent_sys_msg, \"description\": resp_desc_msg})"
   ],
   "outputs": []
  },
  {
   "cell_type": "markdown",
   "id": "9e26c6db4befacc5",
   "metadata": {
    "collapsed": false
   },
   "source": [
    "The generated profile will have the following format:"
   ]
  },
  {
   "cell_type": "code",
   "execution_count": 5,
   "id": "8ede1d7088eb183d",
   "metadata": {
    "ExecuteTime": {
     "end_time": "2023-12-23T07:40:01.712399300Z",
     "start_time": "2023-12-23T07:40:01.707400200Z"
    },
    "collapsed": false
   },
   "source": [
    "sys_msg_list"
   ],
   "outputs": []
  },
  {
   "cell_type": "markdown",
   "id": "256dd32b03a7a172",
   "metadata": {
    "collapsed": false
   },
   "source": [
    "We can save the generated agents' information into a json file."
   ]
  },
  {
   "cell_type": "code",
   "execution_count": 6,
   "id": "53111125938845cf",
   "metadata": {
    "ExecuteTime": {
     "end_time": "2023-12-23T07:40:01.750855900Z",
     "start_time": "2023-12-23T07:40:01.710399600Z"
    },
    "collapsed": false
   },
   "source": [
    "json.dump(sys_msg_list, open(\"./agent_library_example.json\", \"w\"), indent=4)"
   ],
   "outputs": []
  },
  {
   "cell_type": "markdown",
   "id": "cfd883b79a3bd932",
   "metadata": {
    "collapsed": false
   },
   "source": [
    "## Build agents from library (by LLM)\n",
    "Here, we introduce how to build agents from the generated library. As in the previous `build`, we also need to specify a `building_task` that lets the build manager know which agents should be selected from the library according to the task. \n",
    "\n",
    "We also need to specify a `library_path_or_json`, which can be a path of library or a JSON string with agents' configs. Here, we use the previously saved path as the library path."
   ]
  },
  {
   "cell_type": "code",
   "execution_count": 7,
   "id": "8963a8709c8e92e2",
   "metadata": {
    "ExecuteTime": {
     "end_time": "2023-12-23T07:40:01.752918500Z",
     "start_time": "2023-12-23T07:40:01.735461Z"
    },
    "collapsed": false
   },
   "source": [
    "library_path_or_json = \"./agent_library_example.json\"\n",
    "building_task = \"Find a paper on arxiv by programming, and analyze its application in some domain. For example, find a recent paper about gpt-4 on arxiv and find its potential applications in software.\""
   ],
   "outputs": []
  },
  {
   "cell_type": "markdown",
   "id": "72656a8d0c1a9b12",
   "metadata": {
    "collapsed": false
   },
   "source": [
    "Then, we can call the `build_from_library` from the AgentBuilder to generate a list of agents from the library and let them complete the user's `execution_task` in a group chat."
   ]
  },
  {
   "cell_type": "code",
   "execution_count": 10,
   "id": "5c669b76b2c9b750",
   "metadata": {
    "ExecuteTime": {
     "end_time": "2023-12-23T07:46:02.075542200Z",
     "start_time": "2023-12-23T07:43:55.489042900Z"
    },
    "collapsed": false
   },
   "source": [
    "new_builder = AgentBuilder(\n",
    "    config_file_or_env=config_file_or_env, builder_model=\"gpt-4-1106-preview\", agent_model=\"gpt-4-1106-preview\"\n",
    ")\n",
    "agent_list, _ = new_builder.build_from_library(building_task, library_path_or_json, llm_config)\n",
    "start_task(\n",
    "    execution_task=\"Find a recent paper about explainable AI on arxiv and find its potential applications in medical.\",\n",
    "    agent_list=agent_list,\n",
    ")\n",
    "new_builder.clear_all_agents()"
   ],
   "outputs": []
  },
  {
   "cell_type": "markdown",
   "id": "c7a10e6fa00a5a0d",
   "metadata": {
    "collapsed": false
   },
   "source": [
    "## Build agents from library (by description-task similarity)\n",
    "We also support using embedding similarity to select agents. You can use a [Sentence-Transformers model](https://www.sbert.net/docs/pretrained_models.html) as an embedding extractor, and AgentBuilder will select agents with profiles that are the most similar to the building task from the library by comparing their embedding similarity. This will reduce the use of LLMs but may have less accuracy."
   ]
  },
  {
   "cell_type": "code",
   "execution_count": 9,
   "id": "521dc5f961efde59",
   "metadata": {
    "ExecuteTime": {
     "end_time": "2023-12-26T17:01:29.333975100Z",
     "start_time": "2023-12-26T16:58:11.070813500Z"
    },
    "collapsed": false
   },
   "source": [
    "new_builder = AgentBuilder(\n",
    "    config_file_or_env=config_file_or_env, builder_model=\"gpt-4-1106-preview\", agent_model=\"gpt-4-1106-preview\"\n",
    ")\n",
    "agent_list, _ = new_builder.build_from_library(\n",
    "    building_task, library_path_or_json, llm_config, embedding_model=\"all-mpnet-base-v2\"\n",
    ")\n",
    "start_task(\n",
    "    execution_task=\"Find a recent paper about gpt-4 on arxiv and find its potential applications in software.\",\n",
    "    agent_list=agent_list,\n",
    ")\n",
    "new_builder.clear_all_agents()"
   ],
   "outputs": []
  }
 ],
 "metadata": {
  "kernelspec": {
   "display_name": "Python 3 (ipykernel)",
   "language": "python",
   "name": "python3"
  },
  "language_info": {
   "codemirror_mode": {
    "name": "ipython",
    "version": 3
   },
   "file_extension": ".py",
   "mimetype": "text/x-python",
   "name": "python",
   "nbconvert_exporter": "python",
   "pygments_lexer": "ipython3",
   "version": "3.10.14"
  }
 },
 "nbformat": 4,
 "nbformat_minor": 5
}
