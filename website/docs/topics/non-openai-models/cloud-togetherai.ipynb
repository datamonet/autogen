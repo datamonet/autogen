{
 "cells": [
  {
   "cell_type": "markdown",
   "metadata": {},
   "source": [
    "# Together.AI\n",
    "\n",
    "[Together.AI](https://www.together.ai/) is a cloud based platform serving many open-weight LLMs such as Google's Gemma, Meta's Llama 2/3, Qwen, Mistral.AI's Mistral/Mixtral, and NousResearch's Hermes models.\n",
    "\n",
    "Although AutoGen can be used with Together.AI's API directly by changing the `base_url` to their url, it does not cater for some differences between messaging and it is recommended to use the Together.AI Client class as shown in this notebook.\n",
    "\n",
    "You will need a Together.AI account and create an API key. [See their website for further details](https://www.together.ai/)."
   ]
  },
  {
   "cell_type": "markdown",
   "metadata": {},
   "source": [
    "## Features\n",
    "\n",
    "When using this client class, messages are tailored to accommodate the specific requirements of Together.AI's API and provide native support for function/tool calling, token usage, and accurate costs (as of June 2024).\n",
    "\n",
    "## Getting started\n",
    "\n",
    "First, you need to install the `pyautogen` package to use AutoGen with the Together.AI API library.\n",
    "\n",
    "``` bash\n",
    "pip install pyautogen[together]\n",
    "```"
   ]
  },
  {
   "cell_type": "markdown",
   "metadata": {},
   "source": [
    "Together.AI provides a large number of models to use, included some below. See the list of [models here](https://docs.together.ai/docs/inference-models).\n",
    "\n",
    "See the sample `OAI_CONFIG_LIST` below showing how the Together.AI client class is used by specifying the `api_type` as `together`.\n",
    "\n",
    "```python\n",
    "[\n",
    "    {\n",
    "        \"model\": \"gpt-35-turbo\",\n",
    "        \"api_key\": \"your OpenAI Key goes here\",\n",
    "    },\n",
    "    {\n",
    "        \"model\": \"gpt-4-vision-preview\",\n",
    "        \"api_key\": \"your OpenAI Key goes here\",\n",
    "    },\n",
    "    {\n",
    "        \"model\": \"dalle\",\n",
    "        \"api_key\": \"your OpenAI Key goes here\",\n",
    "    },\n",
    "    {\n",
    "        \"model\": \"google/gemma-7b-it\",\n",
    "        \"api_key\": \"your Together.AI API Key goes here\",\n",
    "        \"api_type\": \"together\"\n",
    "    },\n",
    "    {\n",
    "        \"model\": \"codellama/CodeLlama-70b-Instruct-hf\",\n",
    "        \"api_key\": \"your Together.AI API Key goes here\",\n",
    "        \"api_type\": \"together\"\n",
    "    },\n",
    "    {\n",
    "        \"model\": \"meta-llama/Llama-2-13b-chat-hf\",\n",
    "        \"api_key\": \"your Together.AI API Key goes here\",\n",
    "        \"api_type\": \"together\"\n",
    "    },\n",
    "    {\n",
    "        \"model\": \"Qwen/Qwen2-72B-Instruct\",\n",
    "        \"api_key\": \"your Together.AI API Key goes here\",\n",
    "        \"api_type\": \"together\"\n",
    "    }\n",
    "]\n",
    "```"
   ]
  },
  {
   "cell_type": "markdown",
   "metadata": {},
   "source": [
    "As an alternative to the `api_key` key and value in the config, you can set the environment variable `TOGETHER_API_KEY` to your Together.AI key.\n",
    "\n",
    "Linux/Mac:\n",
    "``` bash\n",
    "export TOGETHER_API_KEY=\"your_together_ai_api_key_here\"\n",
    "```\n",
    "\n",
    "Windows:\n",
    "``` bash\n",
    "set TOGETHER_API_KEY=your_together_ai_api_key_here\n",
    "```\n",
    "\n",
    "## API parameters\n",
    "\n",
    "The following Together.AI parameters can be added to your config. See [this link](https://docs.together.ai/reference/chat-completions) for further information on their purpose, default values, and ranges.\n",
    "\n",
    "- max_tokens (integer)\n",
    "- temperature (float)\n",
    "- top_p (float)\n",
    "- top_k (integer)\n",
    "- repetition_penalty (float)\n",
    "- frequency_penalty (float)\n",
    "- presence_penalty (float)\n",
    "- min_p (float)\n",
    "- safety_model (string - [moderation models here](https://docs.together.ai/docs/inference-models#moderation-models))\n",
    "\n",
    "Example:\n",
    "```python\n",
    "[\n",
    "    {\n",
    "        \"model\": \"microsoft/phi-2\",\n",
    "        \"api_key\": \"your Together.AI API Key goes here\",\n",
    "        \"api_type\": \"together\",\n",
    "        \"max_tokens\": 1000,\n",
    "        \"stream\": False,\n",
    "        \"temperature\": 1,\n",
    "        \"top_p\": 0.8,\n",
    "        \"top_k\": 50,\n",
    "        \"repetition_penalty\": 0.5,\n",
    "        \"presence_penalty\": 1.5,\n",
    "        \"frequency_penalty\": 1.5,\n",
    "        \"min_p\": 0.2,\n",
    "        \"safety_model\": \"Meta-Llama/Llama-Guard-7b\"\n",
    "    }\n",
    "]\n",
    "```"
   ]
  },
  {
   "cell_type": "markdown",
   "metadata": {},
   "source": [
    "## Two-Agent Coding Example\n",
    "\n",
    "In this example, we run a two-agent chat with an AssistantAgent (primarily a coding agent) to generate code to count the number of prime numbers between 1 and 10,000 and then it will be executed.\n",
    "\n",
    "We'll use Mistral's Mixtral-8x7B instruct model which is suitable for coding."
   ]
  },
  {
   "cell_type": "code",
   "execution_count": 2,
   "metadata": {},
   "source": [
    "import os\n",
    "\n",
    "config_list = [\n",
    "    {\n",
    "        # Let's choose the Mixtral 8x7B model\n",
    "        \"model\": \"mistralai/Mixtral-8x7B-Instruct-v0.1\",\n",
    "        # Provide your Together.AI API key here or put it into the TOGETHER_API_KEY environment variable.\n",
    "        \"api_key\": os.environ.get(\"TOGETHER_API_KEY\"),\n",
    "        # We specify the API Type as 'together' so it uses the Together.AI client class\n",
    "        \"api_type\": \"together\",\n",
    "        \"stream\": False,\n",
    "    }\n",
    "]"
   ],
   "outputs": []
  },
  {
   "cell_type": "markdown",
   "metadata": {},
   "source": [
    "Importantly, we have tweaked the system message so that the model doesn't return the termination keyword, which we've changed to FINISH, with the code block."
   ]
  },
  {
   "cell_type": "code",
   "execution_count": 3,
   "metadata": {},
   "source": [
    "from pathlib import Path\n",
    "\n",
    "from autogen import AssistantAgent, UserProxyAgent\n",
    "from autogen.coding import LocalCommandLineCodeExecutor\n",
    "\n",
    "# Setting up the code executor\n",
    "workdir = Path(\"coding\")\n",
    "workdir.mkdir(exist_ok=True)\n",
    "code_executor = LocalCommandLineCodeExecutor(work_dir=workdir)\n",
    "\n",
    "# Setting up the agents\n",
    "\n",
    "# The UserProxyAgent will execute the code that the AssistantAgent provides\n",
    "user_proxy_agent = UserProxyAgent(\n",
    "    name=\"User\",\n",
    "    code_execution_config={\"executor\": code_executor},\n",
    "    is_termination_msg=lambda msg: \"FINISH\" in msg.get(\"content\"),\n",
    ")\n",
    "\n",
    "system_message = \"\"\"You are a helpful AI assistant who writes code and the user executes it.\n",
    "Solve tasks using your coding and language skills.\n",
    "In the following cases, suggest python code (in a python coding block) for the user to execute.\n",
    "Solve the task step by step if you need to. If a plan is not provided, explain your plan first. Be clear which step uses code, and which step uses your language skill.\n",
    "When using code, you must indicate the script type in the code block. The user cannot provide any other feedback or perform any other action beyond executing the code you suggest. The user can't modify your code. So do not suggest incomplete code which requires users to modify. Don't use a code block if it's not intended to be executed by the user.\n",
    "Don't include multiple code blocks in one response. Do not ask users to copy and paste the result. Instead, use 'print' function for the output when relevant. Check the execution result returned by the user.\n",
    "If the result indicates there is an error, fix the error and output the code again. Suggest the full code instead of partial code or code changes. If the error can't be fixed or if the task is not solved even after the code is executed successfully, analyze the problem, revisit your assumption, collect additional info you need, and think of a different approach to try.\n",
    "When you find an answer, verify the answer carefully. Include verifiable evidence in your response if possible.\n",
    "IMPORTANT: Wait for the user to execute your code and then you can reply with the word \"FINISH\". DO NOT OUTPUT \"FINISH\" after your code block.\"\"\"\n",
    "\n",
    "# The AssistantAgent, using Together.AI's Code Llama model, will take the coding request and return code\n",
    "assistant_agent = AssistantAgent(\n",
    "    name=\"Together Assistant\",\n",
    "    system_message=system_message,\n",
    "    llm_config={\"config_list\": config_list},\n",
    ")"
   ],
   "outputs": []
  },
  {
   "cell_type": "code",
   "execution_count": 4,
   "metadata": {},
   "source": [
    "# Start the chat, with the UserProxyAgent asking the AssistantAgent the message\n",
    "chat_result = user_proxy_agent.initiate_chat(\n",
    "    assistant_agent,\n",
    "    message=\"Provide code to count the number of prime numbers from 1 to 10000.\",\n",
    ")"
   ],
   "outputs": []
  },
  {
   "cell_type": "markdown",
   "metadata": {},
   "source": [
    "## Tool Call Example\n",
    "\n",
    "In this example, instead of writing code, we will have two agents playing chess against each other using tool calling to make moves.\n",
    "\n",
    "**Important:**\n",
    "\n",
    "We are utilising a parameter that's supported by certain client classes, such as this one, called `hide_tools`. This parameter will hide the tools from the Together.AI response creation call if tools have already been executed and this helps minimise the chance of the LLM choosing a tool when we don't need it to.\n",
    "\n",
    "Here we are using `if_all_run`, indicating that we want to hide the tools if all the tools have already been run. This will apply in each nested chat, so each time a player takes a turn it will aim to run both functions and then finish with a text response so we can hand control back to the other player."
   ]
  },
  {
   "cell_type": "code",
   "execution_count": 5,
   "metadata": {},
   "source": [
    "config_list = [\n",
    "    {\n",
    "        # Let's choose Meta's CodeLlama 34b instruct model which supports function calling through the Together.AI API\n",
    "        \"model\": \"mistralai/Mixtral-8x7B-Instruct-v0.1\",\n",
    "        \"api_key\": os.environ.get(\"TOGETHER_API_KEY\"),\n",
    "        \"api_type\": \"together\",\n",
    "        \"hide_tools\": \"if_all_run\",\n",
    "    }\n",
    "]"
   ],
   "outputs": []
  },
  {
   "cell_type": "markdown",
   "metadata": {},
   "source": [
    "\n",
    "First install the `chess` package by running the following command:"
   ]
  },
  {
   "cell_type": "code",
   "execution_count": 6,
   "metadata": {},
   "source": [
    "! pip install chess"
   ],
   "outputs": []
  },
  {
   "cell_type": "markdown",
   "metadata": {},
   "source": [
    "Write the function for making a move."
   ]
  },
  {
   "cell_type": "code",
   "execution_count": 7,
   "metadata": {},
   "source": [
    "import random\n",
    "\n",
    "import chess\n",
    "import chess.svg\n",
    "from IPython.display import display\n",
    "from typing_extensions import Annotated\n",
    "\n",
    "board = chess.Board()\n",
    "\n",
    "\n",
    "def make_move() -> Annotated[str, \"A move in UCI format\"]:\n",
    "    moves = list(board.legal_moves)\n",
    "    move = random.choice(moves)\n",
    "    board.push(move)\n",
    "    # Display the board.\n",
    "    display(chess.svg.board(board, size=400))\n",
    "    return str(move)"
   ],
   "outputs": []
  },
  {
   "cell_type": "markdown",
   "metadata": {},
   "source": [
    "Let's create the agents. We have three different agents:\n",
    "- `player_white` is the agent that plays white.\n",
    "- `player_black` is the agent that plays black.\n",
    "- `board_proxy` is the agent that moves the pieces on the board."
   ]
  },
  {
   "cell_type": "code",
   "execution_count": 8,
   "metadata": {},
   "source": [
    "from autogen import ConversableAgent, register_function\n",
    "\n",
    "player_white = ConversableAgent(\n",
    "    name=\"Player White\",\n",
    "    system_message=\"You are a chess player and you play as white. \" \"Always call make_move() to make a move\",\n",
    "    llm_config={\"config_list\": config_list, \"cache_seed\": None},\n",
    ")\n",
    "\n",
    "player_black = ConversableAgent(\n",
    "    name=\"Player Black\",\n",
    "    system_message=\"You are a chess player and you play as black. \" \"Always call make_move() to make a move\",\n",
    "    llm_config={\"config_list\": config_list, \"cache_seed\": None},\n",
    ")\n",
    "\n",
    "board_proxy = ConversableAgent(\n",
    "    name=\"Board Proxy\",\n",
    "    llm_config=False,\n",
    "    # The board proxy will only respond to the make_move function.\n",
    "    is_termination_msg=lambda msg: \"tool_calls\" not in msg,\n",
    ")"
   ],
   "outputs": []
  },
  {
   "cell_type": "markdown",
   "metadata": {},
   "source": [
    "Register tools for the agents. See the [tutorial chapter on tool use](/docs/tutorial/tool-use) \n",
    "for more information."
   ]
  },
  {
   "cell_type": "code",
   "execution_count": 9,
   "metadata": {},
   "source": [
    "register_function(\n",
    "    make_move,\n",
    "    caller=player_white,\n",
    "    executor=board_proxy,\n",
    "    name=\"make_move\",\n",
    "    description=\"Make a move.\",\n",
    ")\n",
    "\n",
    "register_function(\n",
    "    make_move,\n",
    "    caller=player_black,\n",
    "    executor=board_proxy,\n",
    "    name=\"make_move\",\n",
    "    description=\"Make a move.\",\n",
    ")"
   ],
   "outputs": []
  },
  {
   "cell_type": "markdown",
   "metadata": {},
   "source": [
    "Register nested chats for the player agents.\n",
    "Nested chats allows each player agent to chat with the board proxy agent\n",
    "to make a move, before communicating with the other player agent.\n",
    "See the [nested chats tutorial chapter](/docs/tutorial/conversation-patterns#nested-chats)\n",
    "for more information."
   ]
  },
  {
   "cell_type": "code",
   "execution_count": 10,
   "metadata": {},
   "source": [
    "player_white.register_nested_chats(\n",
    "    trigger=player_black,\n",
    "    chat_queue=[\n",
    "        {\n",
    "            \"sender\": board_proxy,\n",
    "            \"recipient\": player_white,\n",
    "        }\n",
    "    ],\n",
    ")\n",
    "\n",
    "player_black.register_nested_chats(\n",
    "    trigger=player_white,\n",
    "    chat_queue=[\n",
    "        {\n",
    "            \"sender\": board_proxy,\n",
    "            \"recipient\": player_black,\n",
    "        }\n",
    "    ],\n",
    ")"
   ],
   "outputs": []
  },
  {
   "cell_type": "markdown",
   "metadata": {},
   "source": [
    "Clear the board and start the chess game."
   ]
  },
  {
   "cell_type": "code",
   "execution_count": 12,
   "metadata": {},
   "source": [
    "# Clear the board.\n",
    "board = chess.Board()\n",
    "\n",
    "chat_result = player_white.initiate_chat(\n",
    "    player_black,\n",
    "    message=\"Let's play chess! Your move.\",\n",
    "    max_turns=4,\n",
    ")"
   ],
   "outputs": []
  }
 ],
 "metadata": {
  "kernelspec": {
   "display_name": "autogen",
   "language": "python",
   "name": "python3"
  },
  "language_info": {
   "codemirror_mode": {
    "name": "ipython",
    "version": 3
   },
   "file_extension": ".py",
   "mimetype": "text/x-python",
   "name": "python",
   "nbconvert_exporter": "python",
   "pygments_lexer": "ipython3",
   "version": "3.11.9"
  }
 },
 "nbformat": 4,
 "nbformat_minor": 2
}
