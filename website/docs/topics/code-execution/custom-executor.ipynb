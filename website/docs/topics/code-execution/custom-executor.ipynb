{
 "cells": [
  {
   "cell_type": "markdown",
   "metadata": {},
   "source": [
    "# Custom Code Executor\n",
    "\n",
    "In this guide we will show you how to create a custom code executor that runs\n",
    "code inside the same Jupyter notebook as this one.\n",
    "\n",
    "First, let's install the required dependencies:"
   ]
  },
  {
   "cell_type": "code",
   "execution_count": 1,
   "metadata": {},
   "source": [
    "! pip -qqq install pyautogen matplotlib yfinance"
   ],
   "outputs": []
  },
  {
   "cell_type": "code",
   "execution_count": 11,
   "metadata": {},
   "source": [
    "import os\n",
    "from typing import List\n",
    "\n",
    "from IPython import get_ipython\n",
    "\n",
    "from autogen import ConversableAgent\n",
    "from autogen.coding import CodeBlock, CodeExecutor, CodeExtractor, CodeResult, MarkdownCodeExtractor"
   ],
   "outputs": []
  },
  {
   "cell_type": "markdown",
   "metadata": {},
   "source": [
    "Now we can create the custom code executor class by subclassing the\n",
    "`CodeExecutor` protocol and implementing the `execute_code_blocks` method."
   ]
  },
  {
   "cell_type": "code",
   "execution_count": 9,
   "metadata": {},
   "source": [
    "class NotebookExecutor(CodeExecutor):\n",
    "\n",
    "    @property\n",
    "    def code_extractor(self) -> CodeExtractor:\n",
    "        # Extact code from markdown blocks.\n",
    "        return MarkdownCodeExtractor()\n",
    "\n",
    "    def __init__(self) -> None:\n",
    "        # Get the current IPython instance running in this notebook.\n",
    "        self._ipython = get_ipython()\n",
    "\n",
    "    def execute_code_blocks(self, code_blocks: List[CodeBlock]) -> CodeResult:\n",
    "        log = \"\"\n",
    "        for code_block in code_blocks:\n",
    "            result = self._ipython.run_cell(\"%%capture --no-display cap\\n\" + code_block.code)\n",
    "            log += self._ipython.ev(\"cap.stdout\")\n",
    "            log += self._ipython.ev(\"cap.stderr\")\n",
    "            if result.result is not None:\n",
    "                log += str(result.result)\n",
    "            exitcode = 0 if result.success else 1\n",
    "            if result.error_before_exec is not None:\n",
    "                log += f\"\\n{result.error_before_exec}\"\n",
    "                exitcode = 1\n",
    "            if result.error_in_exec is not None:\n",
    "                log += f\"\\n{result.error_in_exec}\"\n",
    "                exitcode = 1\n",
    "            if exitcode != 0:\n",
    "                break\n",
    "        return CodeResult(exit_code=exitcode, output=log)"
   ],
   "outputs": []
  },
  {
   "cell_type": "markdown",
   "metadata": {},
   "source": [
    "Now we can use the new custom code executor in our agents."
   ]
  },
  {
   "cell_type": "code",
   "execution_count": 21,
   "metadata": {},
   "source": [
    "code_writer_agent = ConversableAgent(\n",
    "    name=\"CodeWriter\",\n",
    "    system_message=\"You are a helpful AI assistant.\\n\"\n",
    "    \"You use your coding skill to solve problems.\\n\"\n",
    "    \"You have access to a IPython kernel to execute Python code.\\n\"\n",
    "    \"You can suggest Python code in Markdown blocks, each block is a cell.\\n\"\n",
    "    \"The code blocks will be executed in the IPython kernel in the order you suggest them.\\n\"\n",
    "    \"All necessary libraries have already been installed.\\n\"\n",
    "    \"Once the task is done, returns 'TERMINATE'.\",\n",
    "    llm_config={\"config_list\": [{\"model\": \"gpt-4\", \"api_key\": os.getenv(\"OPENAI_API_KEY\")}]},\n",
    ")\n",
    "\n",
    "code_executor_agent = ConversableAgent(\n",
    "    name=\"CodeExecutor\",\n",
    "    llm_config=False,\n",
    "    code_execution_config={\"executor\": NotebookExecutor()},\n",
    "    is_termination_msg=lambda msg: \"TERMINATE\" in msg.get(\"content\", \"\").strip().upper(),\n",
    ")"
   ],
   "outputs": []
  },
  {
   "cell_type": "markdown",
   "metadata": {},
   "source": [
    "Let's use the agents to complete a simple task of drawing a plot showing\n",
    "the market caps of the top 7 publicly listed companies."
   ]
  },
  {
   "cell_type": "code",
   "execution_count": 24,
   "metadata": {},
   "source": [
    "chat_result = code_executor_agent.initiate_chat(\n",
    "    code_writer_agent,\n",
    "    message=\"Create a plot showing the market caps of the top 7 publicly listed companies using data from Yahoo Finance.\",\n",
    ")"
   ],
   "outputs": []
  },
  {
   "cell_type": "markdown",
   "metadata": {},
   "source": [
    "You can see the plots are now displayed in the current notebook."
   ]
  }
 ],
 "metadata": {
  "kernelspec": {
   "display_name": "autogen",
   "language": "python",
   "name": "python3"
  },
  "language_info": {
   "codemirror_mode": {
    "name": "ipython",
    "version": 3
   },
   "file_extension": ".py",
   "mimetype": "text/x-python",
   "name": "python",
   "nbconvert_exporter": "python",
   "pygments_lexer": "ipython3",
   "version": "3.11.5"
  }
 },
 "nbformat": 4,
 "nbformat_minor": 2
}
